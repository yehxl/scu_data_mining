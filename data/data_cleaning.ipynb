{
 "cells": [
  {
   "cell_type": "code",
   "execution_count": null,
   "metadata": {},
   "outputs": [],
   "source": [
    "import pandas as pd\n",
    "from pandas import DataFrame as df\n",
    "\n",
    "li = ['爱情','动作','短片','犯罪','惊悚','剧情','科幻','悬疑']\n",
    "table = []\n",
    "for i in li:\n",
    "    path = \"D:\\\\projects\\\\scu_data_mining\\\\data\\\\\" + i + \".csv\"\n",
    "    table.append(df(pd.read_csv(path)))"
   ]
  },
  {
   "cell_type": "code",
   "execution_count": null,
   "metadata": {},
   "outputs": [],
   "source": [
    "table[0]"
   ]
  },
  {
   "cell_type": "code",
   "execution_count": null,
   "metadata": {},
   "outputs": [],
   "source": [
    "tp = zip(li, table)\n",
    "for label, item in tp:\n",
    "    for i in range(10):\n",
    "        index = 'rd' + str(i)\n",
    "        s = pd.Series(item[index])\n",
    "        item[index] = s.str.extract(\"'(.*?)',\", expand=True)\n",
    "    item = item.drop(['link', 'genre3','region2','region1'], axis=1)\n",
    "    item['lang0'].loc[item['region0'].isin(['中国','中国台湾','中国香港','中国大陆'])] = '国语'\n",
    "    item['lang0'].loc[item['region0'].isin(['美国','英国','爱尔兰','加拿大','澳大利亚','新西兰'])] = '英语'\n",
    "    item['lang0'].loc[item['region0'] == '印度'] = '印地语'\n",
    "    item['lang0'].loc[item['region0'] == '日本'] = '日语'\n",
    "    item['lang0'].loc[item['region0'].isin(['西班牙','阿根廷','智利','哥伦比亚','墨西哥'])] = '西班牙语'\n",
    "    item['lang0'].loc[item['region0'] == '法国'] = '法语'\n",
    "    item['lang0'].loc[item['region0'] == '韩国'] = '韩语'\n",
    "    item['lang0'].loc[item['region0'].isin(['苏联','俄罗斯'])] = '俄语'\n",
    "    item['lang0'].loc[item['region0'].isin(['奥地利','德国','西德'])] = '德语'\n",
    "    item['lang0'].loc[item['region0'] == '意大利'] = '意大利语'\n",
    "    item['lang0'].loc[item['region0'] == '瑞典'] = '瑞典语'\n",
    "    item['lang0'].loc[item['region0'] == '泰国'] = '泰语'\n",
    "    item['lang0'].loc[item['region0'] == '巴西'] = '葡萄牙语'\n",
    "    item['lang0'].loc[item['region0'] == '捷克斯洛伐克'] = '捷克语'\n",
    "    item['lang0'].loc[item['region0'] == '匈牙利'] = '匈牙利语'\n",
    "    item['lang0'].loc[item['region0'] == '波兰'] = '波兰语'\n",
    "    item['lang0'].loc[item['region0'] == '印度尼西亚'] = '印尼语'\n",
    "    item['lang0'].loc[item['region0'] == '伊朗'] = '波斯语'\n",
    "    item['lang0'].loc[item['region0'] == '丹麦'] = '丹麦语'\n",
    "    item['lang0'].loc[item['region0'] == '荷兰'] = '荷兰语'\n",
    "    item['lang0'].loc[item['region0'] == '黎巴嫩'] = '阿拉伯语'\n",
    "    path = \"D:\\\\projects\\\\scu_data_mining\\\\data\\\\clean_data\\\\\" + label + \"_.csv\"\n",
    "    item.to_csv(path, encoding='utf-8-sig')\n",
    "    \n",
    "\n",
    "table[0]\n",
    "#t1 = s.str.extract(\"'(.*?)',\", expand=True)\n",
    "#t1"
   ]
  },
  {
   "cell_type": "code",
   "execution_count": 16,
   "metadata": {},
   "outputs": [],
   "source": [
    "import glob\n",
    "import pandas as pd\n",
    "\n",
    "years = ['1980-1999','2000年及以后']\n",
    "categories = ['动作','悬疑','惊悚','剧情']\n",
    "regions = ['美国', '日韩', '中国', '法国', '英国']\n",
    "\n",
    "\n",
    "prefix = 'D:/projects/scu_data_mining/data/depth3_layer/'\n",
    "for k in years:\n",
    "    for i in categories:\n",
    "        for j in regions:\n",
    "            path = prefix + k + '/' +  i + '/*.csv'\n",
    "            csv_list = glob.glob(path)\n",
    "            for lst in csv_list:\n",
    "                print(lst)\n",
    "                data = pd.read_csv(lst,delimiter='\\t')\n",
    "                res = data.dropna(how=\"all\")\n",
    "                res.to_csv(prefix + k + '/' + i + '/' + i + '_' + j + '_' + k + '_.csv', index=False, encoding='utf-8-sig')\n",
    "                input()\n",
    "\n",
    "    # frame.to_csv(lst, encoding='utf-8-sig')"
   ]
  },
  {
   "cell_type": "code",
   "execution_count": 8,
   "metadata": {},
   "outputs": [],
   "source": [
    "import codecs\n",
    "import glob\n",
    "# https://stackoverflow.com/questions/5202648/adding-bom-unicode-signature-while-saving-file-in-python\n",
    "\n",
    "\n",
    "\"\"\" 给指定文件，添加BOM标记\n",
    "    参数:\n",
    "        file: 文件\n",
    "        bom: BOM标记\n",
    "\"\"\"\n",
    "def add_bom(file, bom: bytes):\n",
    "    with open(file, 'r+b') as f:\n",
    "        org_contents = f.read()\n",
    "        f.seek(0)\n",
    "        f.write(bom + org_contents)\n",
    "\n",
    "# 定义一个测试文件，名为test.log\n",
    "\n",
    "csv_list = glob.glob('depth3_layer/2000年及以后/*.csv')\n",
    "for lst in csv_list:\n",
    "    path = 'D:\\\\projects\\\\scu_data_mining\\\\data\\\\' + str(lst)\n",
    "    add_bom(path, codecs.BOM_UTF8)\n"
   ]
  }
 ],
 "metadata": {
  "kernelspec": {
   "display_name": "Python 3.9.13 ('base')",
   "language": "python",
   "name": "python3"
  },
  "language_info": {
   "codemirror_mode": {
    "name": "ipython",
    "version": 3
   },
   "file_extension": ".py",
   "mimetype": "text/x-python",
   "name": "python",
   "nbconvert_exporter": "python",
   "pygments_lexer": "ipython3",
   "version": "3.9.13"
  },
  "orig_nbformat": 4,
  "vscode": {
   "interpreter": {
    "hash": "a9722d129302ed750407adbe00a6b56dc1eb16f72ac6c2866dfbcd44e2d98592"
   }
  }
 },
 "nbformat": 4,
 "nbformat_minor": 2
}
